{
  "nbformat": 4,
  "nbformat_minor": 0,
  "metadata": {
    "colab": {
      "provenance": []
    },
    "kernelspec": {
      "name": "python3",
      "display_name": "Python 3"
    },
    "language_info": {
      "name": "python"
    }
  },
  "cells": [
    {
      "cell_type": "code",
      "source": [
        "import random\n",
        "\n",
        "class Chromosome:\n",
        "\n",
        "    fitnesse = None\n",
        "    genomes = []\n",
        "    proba_mutation = None\n",
        "    proba_croisement=None\n",
        "\n",
        "#initialisation des attributs de classe\n",
        "#self=c'est une instance d'un chromosome\n",
        "    def __init__(self, tailleP,PM,PC):\n",
        "        self.genomes = [random.randint(0,1) for x in range(tailleP)]\n",
        "        self.proba_mutation = PM\n",
        "        self.proba_croisement=PC\n",
        "\n",
        "    def calcul_fitnessee(self,volume_sac, poids_obj):\n",
        "        poids_total = sum([poids_obj[x][1] if self.genomes[x] == 1 else 0 for x in range(len(self.genomes))])\n",
        "        if poids_total > volume_sac: poids_total = 0\n",
        "        self.fitnesse = poids_total/volume_sac\n",
        "\n",
        "    def croisement (self,parents):\n",
        "        point_croisement = random.randint(0,len(parents[0].genomes)-1)\n",
        "        self.genomes = [parents[0].genomes[x] if x <= point_croisement else parents[1].genomes[x] for x in range(len(parents[0].genomes))]\n",
        "        breakpoint\n",
        "\n",
        "    def mutation(self):\n",
        "        nomes = [[1,0][self.genomes[x]] if random.random() < self.proba_mutation else self.genomes[x] for x in range(len(self.genomes))]\n",
        "        self.genomes = nomes\n",
        "\n",
        "\n",
        "##class Main\n",
        "#initialisation d'une liste d'objets\n",
        "poids_obj = [[\"telephone\",400],[\"chargeur\",160],[\"couleurs\",25],[\"Haut-parleur\",1300],[\"Montre\",150],[\"lunettes\",130],[\"stylo\",70],[\"Clip\",10],[\"cahier\",100],[\"2pinceaux\",30]]\n",
        "volumeMax = 2000\n",
        "nbr_ch = 2 #? le nombre de meilleurs chromosomes qu'ils vont participer a la nouvelle generation \n",
        "generations = 10 #nbr iteration\n",
        "taille_population = 10\n",
        "proba_mutation = 0.1\n",
        "proba_croisement=0.2\n",
        "population = [Chromosome(len(poids_obj),proba_mutation,proba_croisement) for i in range(taille_population)]\n",
        "\n",
        "for i in range(generations):\n",
        "    #! calculer la fitnesse de chaque chromosome dans la population\n",
        "    for chromo in population:\n",
        "        chromo.calcul_fitnessee(volumeMax,poids_obj)\n",
        "    population = sorted(population , key=lambda p: p.fitnesse , reverse=True )\n",
        "\n",
        "    #! cree la nouvelle population \n",
        "    new_population = population\n",
        "    for x in range(nbr_ch,len(new_population)):\n",
        "        new_population[x].croisement (random.choices(population=population,weights=[x.fitnesse for x in population],k=2))\n",
        "        new_population[x].mutation()\n",
        "\n",
        "    #! affichage des generations \n",
        "    print(f\"Generation {i+1}: best_fitnesse:{population[0].fitnesse}\")\n",
        "    if population[0].fitnesse == 1: break\n",
        "    population = new_population\n",
        "\n",
        "print([poids_obj[x][0] for x in range(len(population[0].genomes)) if population[0].genomes[x] == 1])\n",
        "print(f\"poids totale des objets: {sum([poids_obj[x][1] if population[0].genomes[x] == 1 else 0 for x in range(len(population[0].genomes))])},\\nVolume de sac a dos: {volumeMax}\\n{population[0].genomes}\")\n"
      ],
      "metadata": {
        "id": "71dInmcSv9oB",
        "colab": {
          "base_uri": "https://localhost:8080/"
        },
        "outputId": "33151af1-18bb-417c-d2c9-1702b6428973"
      },
      "execution_count": null,
      "outputs": [
        {
          "output_type": "stream",
          "name": "stdout",
          "text": [
            "Generation 1: best_fitnesse:1.0\n",
            "['telephone', 'chargeur', 'Haut-parleur', 'lunettes', 'Clip']\n",
            "poids totale des objets: 2000,\n",
            "Volume de sac a dos: 2000\n",
            "[1, 1, 0, 1, 0, 1, 0, 1, 0, 0]\n"
          ]
        }
      ]
    }
  ]
}